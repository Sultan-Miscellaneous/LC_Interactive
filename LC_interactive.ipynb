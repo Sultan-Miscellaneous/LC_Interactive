{
 "cells": [
  {
   "cell_type": "code",
   "execution_count": 11,
   "source": [
    "import matplotlib.pyplot as plt\n",
    "\n",
    "from PySpice.Probe.Plot import plot\n",
    "from PySpice.Spice.Library import SpiceLibrary\n",
    "from PySpice.Spice.Netlist import Circuit\n",
    "from PySpice.Unit import *\n",
    "from ipywidgets import *"
   ],
   "outputs": [],
   "metadata": {}
  },
  {
   "cell_type": "code",
   "execution_count": 31,
   "source": [
    "def simulate(V0 = 1, L=0.05, C=0.05):\n",
    "    circuit = Circuit('LCCircuit')\n",
    "    circuit.L(1, 'node_01', circuit.gnd, L@u_mH)\n",
    "    circuit.C(1,'node_01',circuit.gnd, C@u_mF)\n",
    "    Tf =3@u_ms\n",
    "    T = 0.1@u_ms\n",
    "    simulator = circuit.simulator(temperature=25, nominal_temperature=25)\n",
    "    simulator.initial_condition(node_01 = V0@u_V)\n",
    "    analysis = simulator.transient(step_time=T/10, end_time=Tf)\n",
    "    fig, ax1 = plt.subplots()\n",
    "    ax1.set_title(f'I(t)/V(t) @V0={V0}, C={C}, L={L}')\n",
    "    ax1.set_xlabel('Time in ms')\n",
    "    # ax1.ticklabel_format(style='sci', axis='x', scilimits=(0,0))\n",
    "    ax1.plot(analysis.nodes['node_01']) #bug with voltages vs currents\n",
    "    ax1.set_ylabel('A')\n",
    "    color = 'tab:blue'\n",
    "    ax1.tick_params(axis='y', labelcolor=color)\n",
    "    \n",
    "    ax2 = ax1.twinx()\n",
    "    color = 'tab:red'\n",
    "    ax2.plot(analysis.branches['l1'], 'r') #bug with voltages vs currents\n",
    "    ax2.tick_params(axis='y', labelcolor=color)\n",
    "    ax2.set_ylabel('V')\n",
    "    a,b = -5e10,5e10\n",
    "    ax1.set_ylim(a,b)\n",
    "    ax2.set_ylim(a,b)\n",
    "    # ax1.show()\n",
    "    \n",
    "interact(simulate, V0=(1,5,0.01), C=(0.1, 0.5, 0.01), L=(0.1, 0.5, 0.01))"
   ],
   "outputs": [
    {
     "output_type": "display_data",
     "data": {
      "application/vnd.jupyter.widget-view+json": {
       "version_major": 2,
       "version_minor": 0,
       "model_id": "45660aae427e4774aef713415474ae51"
      },
      "text/plain": [
       "interactive(children=(FloatSlider(value=1.0, description='V0', max=5.0, min=1.0, step=0.01), FloatSlider(value…"
      ]
     },
     "metadata": {}
    },
    {
     "output_type": "execute_result",
     "data": {
      "text/plain": [
       "<function __main__.simulate(V0=1, L=0.05, C=0.05)>"
      ]
     },
     "metadata": {},
     "execution_count": 31
    }
   ],
   "metadata": {}
  }
 ],
 "metadata": {
  "orig_nbformat": 4,
  "language_info": {
   "name": "python",
   "version": "3.9.5",
   "mimetype": "text/x-python",
   "codemirror_mode": {
    "name": "ipython",
    "version": 3
   },
   "pygments_lexer": "ipython3",
   "nbconvert_exporter": "python",
   "file_extension": ".py"
  },
  "kernelspec": {
   "name": "python3",
   "display_name": "Python 3.9.5 64-bit ('.venv': venv)"
  },
  "interpreter": {
   "hash": "d62642e7e68bff7d640a356bb4603acd82ea4470f9b1efff928b96cac02c4602"
  }
 },
 "nbformat": 4,
 "nbformat_minor": 2
}